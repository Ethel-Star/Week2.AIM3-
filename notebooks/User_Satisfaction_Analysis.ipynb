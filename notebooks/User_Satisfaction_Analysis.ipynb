{
 "cells": [
  {
   "cell_type": "markdown",
   "metadata": {},
   "source": [
    "# 10 Academy: Artificial Intelligence Mastery\n",
    "## Situational Overview\n",
    "## Satisfaction Analysis\n",
    "Ethel Cherotaw "
   ]
  },
  {
   "cell_type": "code",
   "execution_count": 1,
   "metadata": {},
   "outputs": [],
   "source": [
    "import sys\n",
    "import os\n",
    "import pandas as pd\n",
    "import matplotlib.pyplot as plt\n",
    "import seaborn as sns\n",
    "import numpy as np\n",
    "from sklearn.cluster import KMeans\n",
    "import psycopg2\n",
    "\n",
    "# Add the scripts directory to the Python path\n",
    "scripts_dir = r'E:\\2017.Study\\Tenx\\Week-2\\Situation_Overview\\W2.Situation_Overview-\\scripts'\n",
    "src_dir = r'E:\\2017.Study\\Tenx\\Week-2\\Situation_Overview\\W2.Situation_Overview-\\src'\n",
    "sys.path.append(scripts_dir)\n",
    "sys.path.append(src_dir)\n",
    "from connection import DatabaseConnector\n",
    "from utils import DataUtils"
   ]
  },
  {
   "cell_type": "markdown",
   "metadata": {},
   "source": [
    "## 1.1 Data Extraction\n",
    "\n",
    "Connect to the database and pandas."
   ]
  },
  {
   "cell_type": "code",
   "execution_count": 2,
   "metadata": {},
   "outputs": [
    {
     "name": "stdout",
     "output_type": "stream",
     "text": [
      "Connection successful.\n",
      "Connection closed.\n"
     ]
    }
   ],
   "source": [
    "db_connector = DatabaseConnector()\n",
    "\n",
    "# Connect to the database\n",
    "db_connector.connect()\n",
    "\n",
    "# Define and execute a query\n",
    "query = \"SELECT * FROM xdr_data;\"\n",
    "df = db_connector.execute_query(query)\n",
    "\n",
    "# Print the DataFrame\n",
    "#if df is not None:\n",
    "    #print(df)\n",
    "db_connector.close_connection()\n",
    "#print(\"Columns in DataFrame:\", df.columns)"
   ]
  },
  {
   "cell_type": "markdown",
   "metadata": {},
   "source": [
    "## 1.2 Data Cleansing\n",
    "Missing Value, Outliers, and data conversion"
   ]
  },
  {
   "cell_type": "markdown",
   "metadata": {},
   "source": [
    "#### 1.3 Handling Missing Value,\n",
    "Outliers , Fix( Median, Mean) and Remove Outliers Based on Z Score\n",
    "\n",
    "handles skewness in the handle_missing_values method, where it decides whether to fill missing values with the median or mean based on the skewness of the distribution of the numeric columns."
   ]
  },
  {
   "cell_type": "code",
   "execution_count": 3,
   "metadata": {},
   "outputs": [
    {
     "name": "stdout",
     "output_type": "stream",
     "text": [
      "Total columns with missing values: 41\n",
      "Top 5 columns with the most missing values:\n",
      "                                          Missing Values Percentage    Dtype\n",
      "Nb of sec with 37500B < Vol UL                    130254      86.8%  float64\n",
      "Nb of sec with 6250B < Vol UL < 37500B            111843      74.6%  float64\n",
      "Nb of sec with 125000B < Vol DL                    97538      65.0%  float64\n",
      "TCP UL Retrans. Vol (Bytes)                        96649      64.4%  float64\n",
      "Nb of sec with 31250B < Vol DL < 125000B           93586      62.4%  float64\n"
     ]
    }
   ],
   "source": [
    "data_utils = DataUtils(df)\n",
    "missing_summary = data_utils.check_missing_values()\n",
    "#print(\"Missing Values Summary:\\n\", missing_summary)"
   ]
  },
  {
   "cell_type": "code",
   "execution_count": 4,
   "metadata": {},
   "outputs": [
    {
     "name": "stdout",
     "output_type": "stream",
     "text": [
      "Missing values handled and high missing value columns dropped.\n",
      "Outlier detection complete.\n",
      "Outliers in column 'Bearer Id': Index([], dtype='int64')\n",
      "Outliers in column 'Start ms': Index([], dtype='int64')\n",
      "Outliers in column 'End ms': Index([], dtype='int64')\n",
      "Outliers in column 'Dur. (ms)': Index([0, 1, 2], dtype='int64')\n",
      "Outliers in column 'IMSI': Index([27541, 100027, 125042], dtype='int64')\n",
      "Outliers in column 'MSISDN/Number': Index([125042, 126060], dtype='int64')\n",
      "Outliers in column 'IMEI': Index([], dtype='int64')\n",
      "Outliers in column 'Avg RTT DL (ms)': Index([467, 505, 516], dtype='int64')\n",
      "Outliers in column 'Avg RTT UL (ms)': Index([58, 72, 184], dtype='int64')\n",
      "Outliers in column 'Avg Bearer TP DL (kbps)': Index([86, 323, 405], dtype='int64')\n",
      "Outliers in column 'Avg Bearer TP UL (kbps)': Index([132, 317, 331], dtype='int64')\n",
      "Outliers in column 'TCP DL Retrans. Vol (Bytes)': Index([538, 786, 902], dtype='int64')\n",
      "Outliers in column 'TCP UL Retrans. Vol (Bytes)': Index([566, 821, 1246], dtype='int64')\n",
      "Outliers in column 'DL TP < 50 Kbps (%)': Index([147, 258, 385], dtype='int64')\n",
      "Outliers in column '50 Kbps < DL TP < 250 Kbps (%)': Index([9, 385, 394], dtype='int64')\n",
      "Outliers in column '250 Kbps < DL TP < 1 Mbps (%)': Index([101, 161, 174], dtype='int64')\n",
      "Outliers in column 'DL TP > 1 Mbps (%)': Index([84, 147, 483], dtype='int64')\n",
      "Outliers in column 'UL TP < 10 Kbps (%)': Index([538, 557, 649], dtype='int64')\n",
      "Outliers in column '10 Kbps < UL TP < 50 Kbps (%)': Index([174, 507, 538], dtype='int64')\n",
      "Outliers in column '50 Kbps < UL TP < 300 Kbps (%)': Index([649, 744, 758], dtype='int64')\n",
      "Outliers in column 'UL TP > 300 Kbps (%)': Index([579, 641, 649], dtype='int64')\n",
      "Outliers in column 'HTTP DL (Bytes)': Index([147, 161, 175], dtype='int64')\n",
      "Outliers in column 'HTTP UL (Bytes)': Index([38, 147, 161], dtype='int64')\n",
      "Outliers in column 'Activity Duration DL (ms)': Index([147, 152, 175], dtype='int64')\n",
      "Outliers in column 'Activity Duration UL (ms)': Index([38, 152, 174], dtype='int64')\n",
      "Outliers in column 'Dur. (ms).1': Index([0, 1, 2], dtype='int64')\n",
      "Outliers in column 'Nb of sec with 125000B < Vol DL': Index([84, 147, 538], dtype='int64')\n",
      "Outliers in column 'Nb of sec with 1250B < Vol UL < 6250B': Index([174, 538, 557], dtype='int64')\n",
      "Outliers in column 'Nb of sec with 31250B < Vol DL < 125000B': Index([147, 161, 174], dtype='int64')\n",
      "Outliers in column 'Nb of sec with 37500B < Vol UL': Index([539, 649, 744], dtype='int64')\n",
      "Outliers in column 'Nb of sec with 6250B < Vol DL < 31250B': Index([165, 174, 258], dtype='int64')\n",
      "Outliers in column 'Nb of sec with 6250B < Vol UL < 37500B': Index([538, 649, 744], dtype='int64')\n",
      "Outliers in column 'Nb of sec with Vol DL < 6250B': Index([38, 152, 159], dtype='int64')\n",
      "Outliers in column 'Nb of sec with Vol UL < 1250B': Index([38, 161, 175], dtype='int64')\n",
      "Outliers in column 'Social Media DL (Bytes)': Index([], dtype='int64')\n",
      "Outliers in column 'Social Media UL (Bytes)': Index([], dtype='int64')\n",
      "Outliers in column 'Google DL (Bytes)': Index([], dtype='int64')\n",
      "Outliers in column 'Google UL (Bytes)': Index([], dtype='int64')\n",
      "Outliers in column 'Email DL (Bytes)': Index([], dtype='int64')\n",
      "Outliers in column 'Email UL (Bytes)': Index([], dtype='int64')\n",
      "Outliers in column 'Youtube DL (Bytes)': Index([], dtype='int64')\n",
      "Outliers in column 'Youtube UL (Bytes)': Index([], dtype='int64')\n",
      "Outliers in column 'Netflix DL (Bytes)': Index([], dtype='int64')\n",
      "Outliers in column 'Netflix UL (Bytes)': Index([], dtype='int64')\n",
      "Outliers in column 'Gaming DL (Bytes)': Index([], dtype='int64')\n",
      "Outliers in column 'Gaming UL (Bytes)': Index([], dtype='int64')\n",
      "Outliers in column 'Other DL (Bytes)': Index([], dtype='int64')\n",
      "Outliers in column 'Other UL (Bytes)': Index([], dtype='int64')\n",
      "Outliers in column 'Total UL (Bytes)': Index([4455, 5992, 13520], dtype='int64')\n",
      "Outliers in column 'Total DL (Bytes)': Index([], dtype='int64')\n",
      "Outliers removed.\n",
      "Converted byte columns to megabytes.\n"
     ]
    }
   ],
   "source": [
    "df = data_utils.handle_missing_values()\n",
    "#df.head()\n",
    "\n",
    "outliers = data_utils.detect_outliers()\n",
    "\n",
    "for column, outlier_indices in outliers.items():\n",
    "    print(f\"Outliers in column '{column}': {outlier_indices[:3]}\")  # Show first 5 outlier indices\n",
    "\n",
    "df = data_utils.fix_outliers()\n",
    "df = data_utils.remove_outliers()\n",
    "#df.head()\n",
    "df = data_utils.convert_bytes_to_megabytes()"
   ]
  },
  {
   "cell_type": "markdown",
   "metadata": {},
   "source": [
    "## 2. Satisfaction Analysis"
   ]
  },
  {
   "cell_type": "markdown",
   "metadata": {},
   "source": [
    "### Engagement Score "
   ]
  },
  {
   "cell_type": "code",
   "execution_count": 5,
   "metadata": {},
   "outputs": [
    {
     "name": "stdout",
     "output_type": "stream",
     "text": [
      "Metrics normalized.\n",
      "Cluster centers:\n",
      " [[-1.41393603e-03  8.27890267e-01  5.26358787e-01  8.27890267e-01\n",
      "   5.26358787e-01]\n",
      " [-4.67974390e-04  6.76521897e-02 -1.20578710e+00  6.76521897e-02\n",
      "  -1.20578710e+00]\n",
      " [ 1.99592968e-03 -9.93605525e-01  4.27650955e-01 -9.93605525e-01\n",
      "   4.27650955e-01]]\n",
      "Number of customers in each cluster:\n",
      " Cluster\n",
      "0    41696\n",
      "2    36930\n",
      "1    31278\n",
      "Name: count, dtype: int64\n",
      "Least engaged cluster: 1\n",
      "Centroid of least engaged cluster: [-4.67974390e-04  6.76521897e-02 -1.20578710e+00  6.76521897e-02\n",
      " -1.20578710e+00]\n",
      "   Cluster  Engagement_score\n",
      "0        2          1.541934\n",
      "1        0          3.889137\n",
      "2        1          1.089541\n",
      "3        0          2.189521\n",
      "4        0          1.686843\n"
     ]
    }
   ],
   "source": [
    "data_utils.analyze_customer_engagement()\n",
    "df_with_clusters, kmeans_model = data_utils.perform_kmeans_clustering(k=3)\n",
    "df_with_engagement_scores = data_utils.calculate_engagement_scores()\n",
    "# View the first few rows to check the engagement scores\n",
    "#print(df_with_engagement_scores.columns)\n",
    "\n",
    "print(df_with_engagement_scores[['Cluster', 'Engagement_score']].head())"
   ]
  },
  {
   "cell_type": "markdown",
   "metadata": {},
   "source": [
    "### Experience score "
   ]
  },
  {
   "cell_type": "code",
   "execution_count": 10,
   "metadata": {},
   "outputs": [
    {
     "name": "stdout",
     "output_type": "stream",
     "text": [
      "Scaled Data Shape: (109904, 73)\n",
      "Scaled Data Sample: [[ 1.23311792  1.09837529  0.69770786 -0.21327691  0.03692713 -0.04832504\n",
      "  -0.32231783 -0.07924303 -0.07884529 -0.36036298 -0.366602    0.07378031\n",
      "   0.13516181  0.35181508 -0.33264417 -0.27603464 -0.22300304  0.3382253\n",
      "  -0.2431255   0.          0.         -0.05123598  0.0521183  -0.24412362\n",
      "  -0.25899123 -0.21326856  0.22734893  0.26788934  0.25310866  0.03490712\n",
      "   0.27272598  0.17603874 -0.26347152 -0.25269325 -0.1722073  -0.3944506\n",
      "  -1.25241814 -0.6256968   0.09075736 -1.22803523  0.76970395 -1.36115031\n",
      "  -0.46036523 -0.13891605 -0.55171661  1.45485879 -1.01313674  0.21387248\n",
      "  -0.32635957 -0.5590399   0.07378031  0.13516181 -0.05123598  0.0521183\n",
      "  -0.1722073  -0.3944506  -1.25241814 -0.6256968   0.09075736 -1.22803523\n",
      "   0.76970395 -1.36115031 -0.46036523 -0.13891605 -0.55171661  1.45485879\n",
      "  -1.01313674  0.21387248 -0.32635957 -0.5590399  -1.10157811 -1.10844393\n",
      "  -0.74215823]\n",
      " [ 1.23311793 -0.90250656  0.48814948 -0.21327691  1.07543852  0.40028047\n",
      "  -0.30456336  1.17797408 -0.07884529 -0.36113419 -0.40069693  0.07378031\n",
      "   0.13516181  0.35181508 -0.33264417 -0.27603464 -0.22300304  0.3382253\n",
      "  -0.2431255   0.          0.         -0.05123598  0.0521183  -0.32982721\n",
      "  -0.35472176 -0.21326856  0.22734893  0.26788934  0.25310866  0.03490712\n",
      "   0.27272598  0.17603874  0.20467887  0.35475564  0.22411426 -1.37406241\n",
      "  -0.64671982 -0.94462853 -1.1245016  -0.54521639  1.47642493  1.46871439\n",
      "   1.16490872  1.14633259  0.91337044 -1.5173587   0.56317172  1.62903779\n",
      "   1.38863167  0.96711926  0.07378031  0.13516181 -0.05123598  0.0521183\n",
      "   0.22411426 -1.37406241 -0.64671982 -0.94462853 -1.1245016  -0.54521639\n",
      "   1.47642493  1.46871439  1.16490872  1.14633259  0.91337044 -1.5173587\n",
      "   0.56317172  1.62903779  1.38863167  0.96711926  0.43030569  1.27137055\n",
      "  -0.18163234]\n",
      " [ 1.23311793 -1.77765862  0.66028672 -0.21327691 -2.51609093  2.49224769\n",
      "  -0.33791805  0.08474181 -0.07884529 -0.36223592 -0.43289771  0.07378031\n",
      "   0.13516181  0.35181508 -0.33264417 -0.27603464 -0.22300304  0.3382253\n",
      "  -0.2431255   0.          0.         -0.05123598  0.0521183  -0.33021162\n",
      "  -0.36439618 -0.21326856  0.22734893  0.26788934  0.25310866  0.03490712\n",
      "   0.27272598  0.17603874  0.06880409  0.10891927 -0.02811159  0.61632939\n",
      "   0.99538552 -0.24196381  1.02651988  0.91441161  1.39248719  0.7170288\n",
      "   1.04459073 -0.73186841 -0.7665949  -1.69223353  0.04738865 -0.82892198\n",
      "  -1.21813138 -0.68783024  0.07378031  0.13516181 -0.05123598  0.0521183\n",
      "  -0.02811159  0.61632939  0.99538552 -0.24196381  1.02651988  0.91441161\n",
      "   1.39248719  0.7170288   1.04459073 -0.73186841 -0.7665949  -1.69223353\n",
      "   0.04738865 -0.82892198 -1.21813138 -0.68783024 -1.10157811 -1.56712175\n",
      "  -0.1800485 ]\n",
      " [ 1.23311793  0.03622493 -1.13967008 -0.21327691 -0.06607673  2.21913736\n",
      "  -0.33303037  0.08474181 -0.07884529 -0.35804936 -0.366602    0.07378031\n",
      "   0.13516181  0.35181508 -0.33264417 -0.27603464 -0.22300304  0.3382253\n",
      "  -0.2431255   0.          0.         -0.05123598  0.0521183  -0.3225922\n",
      "  -0.2614506  -0.21326856  0.22734893  0.26788934  0.25310866  0.03490712\n",
      "   0.27272598  0.17603874 -0.38452361 -0.2579558  -1.11171785 -1.02167466\n",
      "   1.15456853  0.75131328 -0.27842616  0.7473106   1.65994766  0.7931943\n",
      "   0.46863895 -1.59179254  1.75869365  0.66643912  1.54907831  1.11704052\n",
      "   0.33491554  0.09199878  0.07378031  0.13516181 -0.05123598  0.0521183\n",
      "  -1.11171785 -1.02167466  1.15456853  0.75131328 -0.27842616  0.7473106\n",
      "   1.65994766  0.7931943   0.46863895 -1.59179254  1.75869365  0.66643912\n",
      "   1.54907831  1.11704052  0.33491554  0.09199878  0.43030569 -0.45185917\n",
      "  -0.15622143]\n",
      " [ 1.23311793  0.33168225  0.0914854  -0.21327691 -0.06816444  0.87675343\n",
      "  -0.32975024  0.08474181 -0.07884529 -0.36223592 -0.43289771  0.07378031\n",
      "   0.13516181  0.35181508 -0.33264417 -0.27603464 -0.22300304  0.3382253\n",
      "  -0.2431255   0.          0.         -0.05123598  0.0521183  -0.33021162\n",
      "  -0.36439618 -0.21326856  0.22734893  0.26788934  0.25310866  0.03490712\n",
      "   0.27272598  0.17603874 -0.02013214  0.04050609 -0.88406334  1.06846665\n",
      "   0.25048941 -0.41765905  0.2399864  -1.08356315  0.67394185  1.44335423\n",
      "   0.97034154 -1.7076932   0.55429464 -0.98509575  0.6688268   1.36943545\n",
      "  -0.14600841  0.59390768  0.07378031  0.13516181 -0.05123598  0.0521183\n",
      "  -0.88406334  1.06846665  0.25048941 -0.41765905  0.2399864  -1.08356315\n",
      "   0.67394185  1.44335423  0.97034154 -1.7076932   0.55429464 -0.98509575\n",
      "   0.6688268   1.36943545 -0.14600841  0.59390768  0.43030569 -0.96152127\n",
      "  -0.61453148]]\n",
      "Experience scores calculated.\n",
      "   Cluster  Experience_score\n",
      "0        1         10.183381\n",
      "1        0         10.661582\n",
      "2        1         11.056004\n",
      "3        0         10.705486\n",
      "4        1         10.030170\n"
     ]
    }
   ],
   "source": [
    "data_utils.scale_numeric_data()\n",
    "data_utils.apply_kmeans_clustering(n_clusters=3)\n",
    "# Calculate experience scores\n",
    "\n",
    "df_with_experience_scores = data_utils.calculate_experience_scores()\n",
    "#print(\"Columns in df_with_experience_scores:\", df_with_experience_scores.columns)\n",
    "print(df_with_experience_scores[['Cluster', 'Experience_score']].head())"
   ]
  },
  {
   "cell_type": "code",
   "execution_count": 7,
   "metadata": {},
   "outputs": [],
   "source": [
    "df_engagement = df_with_engagement_scores[['MSISDN', 'Engagement_score']]\n",
    "# Select relevant columns from df_with_experience_scores\n",
    "df_experience = df_with_experience_scores[['MSISDN', 'Experience_score']]\n",
    "# Merge the DataFrames on 'MSISDN'\n",
    "merged_df = pd.merge(df_engagement, df_experience, on='MSISDN')"
   ]
  },
  {
   "cell_type": "code",
   "execution_count": 8,
   "metadata": {},
   "outputs": [
    {
     "name": "stdout",
     "output_type": "stream",
     "text": [
      "Sample data from merged_df:\n",
      "          MSISDN  Engagement_score  Experience_score\n",
      "0  3.366496e+10          1.541934          9.567563\n",
      "1  3.368185e+10          3.889137         10.499601\n",
      "2  3.368185e+10          3.889137         10.660020\n",
      "3  3.376063e+10          1.089541         10.502235\n",
      "4  3.375034e+10          2.189521         10.541854\n"
     ]
    }
   ],
   "source": [
    "print(\"Sample data from merged_df:\\n\", merged_df.head())"
   ]
  },
  {
   "cell_type": "markdown",
   "metadata": {},
   "source": [
    "### Report Top 10 Satisfied Customers"
   ]
  },
  {
   "cell_type": "code",
   "execution_count": 9,
   "metadata": {},
   "outputs": [
    {
     "name": "stdout",
     "output_type": "stream",
     "text": [
      "Top 10 Satisfied Customers:\n",
      "                 MSISDN  Satisfaction_score\n",
      "23065271  3.369574e+10           19.672304\n",
      "23018881  3.366646e+10           18.779263\n",
      "41375074  3.365927e+10           18.624579\n",
      "40811053  3.376356e+10           18.085459\n",
      "730068    3.366698e+10           18.058534\n",
      "11985780  3.366007e+10           17.902248\n",
      "22216218  3.376026e+10           17.900187\n",
      "35041069  3.366316e+10           17.889544\n",
      "37763403  3.366371e+10           17.832884\n",
      "41468089  3.366839e+10           17.810651\n"
     ]
    }
   ],
   "source": [
    "# Calculate the Satisfaction_score as the average of Engagement_score and Experience_score\n",
    "merged_df['Satisfaction_score'] = (merged_df['Engagement_score'] + merged_df['Experience_score']) / 2\n",
    "# Sort the DataFrame by Satisfaction_score in descending order and select the top 10\n",
    "top_10_satisfied_customers = merged_df.sort_values(by='Satisfaction_score', ascending=False).head(10)\n",
    "\n",
    "# Display the results\n",
    "print(\"Top 10 Satisfied Customers:\\n\", top_10_satisfied_customers[['MSISDN', 'Satisfaction_score']])\n"
   ]
  },
  {
   "cell_type": "code",
   "execution_count": 11,
   "metadata": {},
   "outputs": [
    {
     "data": {
      "text/html": [
       "<div>\n",
       "<style scoped>\n",
       "    .dataframe tbody tr th:only-of-type {\n",
       "        vertical-align: middle;\n",
       "    }\n",
       "\n",
       "    .dataframe tbody tr th {\n",
       "        vertical-align: top;\n",
       "    }\n",
       "\n",
       "    .dataframe thead th {\n",
       "        text-align: right;\n",
       "    }\n",
       "</style>\n",
       "<table border=\"1\" class=\"dataframe\">\n",
       "  <thead>\n",
       "    <tr style=\"text-align: right;\">\n",
       "      <th></th>\n",
       "      <th>MSISDN</th>\n",
       "      <th>Engagement_score</th>\n",
       "      <th>Experience_score</th>\n",
       "      <th>Satisfaction_score</th>\n",
       "    </tr>\n",
       "  </thead>\n",
       "  <tbody>\n",
       "    <tr>\n",
       "      <th>0</th>\n",
       "      <td>3.366496e+10</td>\n",
       "      <td>1.541934</td>\n",
       "      <td>9.582069</td>\n",
       "      <td>5.562002</td>\n",
       "    </tr>\n",
       "    <tr>\n",
       "      <th>1</th>\n",
       "      <td>3.368185e+10</td>\n",
       "      <td>3.889137</td>\n",
       "      <td>10.512556</td>\n",
       "      <td>7.200846</td>\n",
       "    </tr>\n",
       "    <tr>\n",
       "      <th>2</th>\n",
       "      <td>3.368185e+10</td>\n",
       "      <td>3.889137</td>\n",
       "      <td>10.673178</td>\n",
       "      <td>7.281157</td>\n",
       "    </tr>\n",
       "    <tr>\n",
       "      <th>3</th>\n",
       "      <td>3.376063e+10</td>\n",
       "      <td>1.089541</td>\n",
       "      <td>10.516003</td>\n",
       "      <td>5.802772</td>\n",
       "    </tr>\n",
       "    <tr>\n",
       "      <th>4</th>\n",
       "      <td>3.375034e+10</td>\n",
       "      <td>2.189521</td>\n",
       "      <td>10.554859</td>\n",
       "      <td>6.372190</td>\n",
       "    </tr>\n",
       "  </tbody>\n",
       "</table>\n",
       "</div>"
      ],
      "text/plain": [
       "         MSISDN  Engagement_score  Experience_score  Satisfaction_score\n",
       "0  3.366496e+10          1.541934          9.582069            5.562002\n",
       "1  3.368185e+10          3.889137         10.512556            7.200846\n",
       "2  3.368185e+10          3.889137         10.673178            7.281157\n",
       "3  3.376063e+10          1.089541         10.516003            5.802772\n",
       "4  3.375034e+10          2.189521         10.554859            6.372190"
      ]
     },
     "execution_count": 11,
     "metadata": {},
     "output_type": "execute_result"
    }
   ],
   "source": [
    "# Select only the necessary columns\n",
    "Merged_Re_df = merged_df[['MSISDN', 'Engagement_score', 'Experience_score', 'Satisfaction_score']]\n",
    "Merged_Re_df.head()\n",
    "#Merged_Re_df.to_csv(r'E:\\2017.Study\\Tenx\\Week-2\\Data\\Merged_Re_df.csv', index=False)\n",
    "\n"
   ]
  },
  {
   "cell_type": "markdown",
   "metadata": {},
   "source": [
    "### Build a Regression Model to Predict Satisfaction Score"
   ]
  },
  {
   "cell_type": "code",
   "execution_count": 14,
   "metadata": {},
   "outputs": [
    {
     "data": {
      "image/png": "[encoded data removed]",
      "text/plain": [
       "<Figure size 1000x600 with 1 Axes>"
      ]
     },
     "metadata": {},
     "output_type": "display_data"
    }
   ],
   "source": [
    "data_utils = DataUtils(Merged_Re_df)\n",
    "# Preprocess the data\n",
    "data_utils.preprocess_data()\n",
    "# Train the model and get predictions\n",
    "model, predictions_df = data_utils.train_and_predict_model()\n",
    "# Plot the predictions vs actual values\n",
    "data_utils.plot_predictions_vs_actual(predictions_df)\n",
    "# Save predictions to a CSV file\n",
    "# predictions_df.to_csv(r'E:\\2017.Study\\Tenx\\Week-2\\Data\\predictions_with_msisdn.csv', index=False)"
   ]
  },
  {
   "cell_type": "code",
   "execution_count": 13,
   "metadata": {},
   "outputs": [],
   "source": [
    "data_utils = DataUtils(Merged_Re_df)\n",
    "# Run K-means clustering (k=2)\n",
    "cluster_centers = data_utils.run_kmeans_clustering(n_clusters=2)\n",
    "print(\"Cluster Centers:\", cluster_centers)\n",
    "# Visualize the clusters\n",
    "data_utils.visualize_clusters()"
   ]
  },
  {
   "cell_type": "markdown",
   "metadata": {},
   "source": [
    "### Export Data to DB "
   ]
  },
  {
   "cell_type": "code",
   "execution_count": 7,
   "metadata": {},
   "outputs": [],
   "source": [
    "csv_file_path = r'E:\\2017.Study\\Tenx\\Week-2\\Data\\Merged_Re_df.csv'\n",
    "Merged_Re_df = pd.read_csv(csv_file_path)\n",
    "# Initialize the DataUtils class with the DataFrame\n",
    "data_utils = DataUtils(Merged_Re_df)\n",
    "# Export the DataFrame to PostgreSQL\n",
    "db_name = 'merged_data_db'\n",
    "db_user = 'postgres'\n",
    "db_password = 'admin'\n",
    "db_host = 'localhost'\n",
    "db_port = '5432'\n",
    "table_name = 'merged_data_table'   \n",
    "data_utils.export_to_postgresql(db_name, db_user, db_password, db_host, db_port, table_name)"
   ]
  },
  {
   "cell_type": "markdown",
   "metadata": {},
   "source": [
    "### "
   ]
  }
 ],
 "metadata": {
  "kernelspec": {
   "display_name": "myenv",
   "language": "python",
   "name": "python3"
  },
  "language_info": {
   "codemirror_mode": {
    "name": "ipython",
    "version": 3
   },
   "file_extension": ".py",
   "mimetype": "text/x-python",
   "name": "python",
   "nbconvert_exporter": "python",
   "pygments_lexer": "ipython3",
   "version": "3.12.4"
  }
 },
 "nbformat": 4,
 "nbformat_minor": 2
}
